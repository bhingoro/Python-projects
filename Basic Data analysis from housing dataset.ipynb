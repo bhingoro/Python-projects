{
 "cells": [
  {
   "cell_type": "code",
   "execution_count": 42,
   "metadata": {},
   "outputs": [],
   "source": [
    "# importing libraries and data\n",
    "\n",
    "import numpy as np\n",
    "import pandas as pd\n",
    "import matplotlib.pyplot as plt\n",
    "import statistics as st\n",
    "from scipy import spatial"
   ]
  },
  {
   "cell_type": "code",
   "execution_count": 29,
   "metadata": {},
   "outputs": [],
   "source": [
    "housing_df = pd.read_csv('housing_dataset.csv')"
   ]
  },
  {
   "cell_type": "markdown",
   "metadata": {},
   "source": [
    "The distances of the farthest and nearest housing blocks from the house block described in the first row of the dataset."
   ]
  },
  {
   "cell_type": "code",
   "execution_count": 30,
   "metadata": {},
   "outputs": [
    {
     "name": "stdout",
     "output_type": "stream",
     "text": [
      "The farthest distance from first housing block is 9.21\n",
      "The nearest distance from first housing block is 0.01\n"
     ]
    }
   ],
   "source": [
    "array = np.array([housing_df['longitude'].iloc[0],housing_df['latitude'].iloc[0]])\n",
    "\n",
    "distance = []\n",
    "for row in housing_df.itertuples():\n",
    "    row_arr = np.array([row.longitude,row.latitude])\n",
    "    dist = spatial.distance.euclidean(array,row_arr)\n",
    "    distance.append(dist)\n",
    "distance.sort()\n",
    "\n",
    "print(\"The farthest distance from first housing block is\",(round(distance[-1],2)))\n",
    "print(\"The nearest distance from first housing block is\",(round(distance[1],2)))"
   ]
  },
  {
   "cell_type": "code",
   "execution_count": 31,
   "metadata": {},
   "outputs": [
    {
     "name": "stdout",
     "output_type": "stream",
     "text": [
      "The Average age of the house blocks near ocean is 29.347253574115875\n"
     ]
    }
   ],
   "source": [
    "# average age of the house blocks near the ocean\n",
    "\n",
    "housing_df = pd.read_csv(\"housing_dataset.csv\")\n",
    "Near_ocean = housing_df[housing_df[\"ocean_proximity\"] == 'NEAR OCEAN']\n",
    "print(\"The Average age of the house blocks near ocean is\", Near_ocean['housing_age'].mean())"
   ]
  },
  {
   "cell_type": "code",
   "execution_count": 32,
   "metadata": {},
   "outputs": [
    {
     "name": "stdout",
     "output_type": "stream",
     "text": [
      "The minimum housing income is 2.5893\n",
      "The maximum housing income is 10.2264\n"
     ]
    }
   ],
   "source": [
    "# income of the housing block with the most and least population density (per family).\n",
    "\n",
    "density = housing_df[\"population\"]/housing_df[\"families\"]\n",
    "housing_df['Population Density'] = density \n",
    "\n",
    "min_density = housing_df['Population Density'].min()\n",
    "max_density = housing_df['Population Density'].max()\n",
    "\n",
    "Min_Income = housing_df[housing_df[\"Population Density\"] == min_density][\"average_income\"].item()\n",
    "Max_Income = housing_df[housing_df[\"Population Density\"] == max_density][\"average_income\"].item()\n",
    "\n",
    "print(\"The minimum housing income is\",(Min_Income))\n",
    "print(\"The maximum housing income is\",(Max_Income))"
   ]
  },
  {
   "cell_type": "code",
   "execution_count": 33,
   "metadata": {},
   "outputs": [
    {
     "name": "stdout",
     "output_type": "stream",
     "text": [
      "The price difference between latest and oldest housing block is 131120.87117046345\n"
     ]
    }
   ],
   "source": [
    "# price difference between the latest and oldest housing block from the dataset.\n",
    "latest_house_age = housing_df[\"housing_age\"].min()\n",
    "oldest_house_age = housing_df[\"housing_age\"].max()\n",
    "\n",
    "Min_hou_age = housing_df[housing_df['housing_age'] == latest_house_age]['house_value'].mean()\n",
    "Max_hou_age = housing_df[housing_df['housing_age'] == oldest_house_age]['house_value'].mean()\n",
    "Price_Diff = Max_hou_age - Min_hou_age\n",
    "\n",
    "print(\"The price difference between latest and oldest housing block is\",(Price_Diff))"
   ]
  },
  {
   "cell_type": "code",
   "execution_count": 34,
   "metadata": {},
   "outputs": [
    {
     "name": "stdout",
     "output_type": "stream",
     "text": [
      "The cheapest price per room is 1.595444807757357\n"
     ]
    }
   ],
   "source": [
    "# cheapest price per room from the dataset.\n",
    "housing_df['Price Per Room'] = housing_df['house_value']/housing_df['total_rooms']\n",
    "\n",
    "print(\"The cheapest price per room is\",housing_df['Price Per Room'].min())"
   ]
  },
  {
   "cell_type": "code",
   "execution_count": 35,
   "metadata": {},
   "outputs": [
    {
     "name": "stdout",
     "output_type": "stream",
     "text": [
      "The population density of least wealthy housing blocks is 3.4754772079772085\n",
      "The population density of most wealthy housing blocks is 3.307545896889619\n"
     ]
    }
   ],
   "source": [
    "# population density (per family) for the most and least wealthy housing blocks in the dataset.\n",
    "\n",
    "Least_Wealthy = housing_df['average_income'].min()\n",
    "Most_Wealthy = housing_df['average_income'].max()\n",
    "\n",
    "pop_den_LW = housing_df[housing_df['average_income'] == Least_Wealthy]['Population Density'].mean()\n",
    "pop_den_MW = housing_df[housing_df['average_income'] == Most_Wealthy]['Population Density'].mean()\n",
    "print(\"The population density of least wealthy housing blocks is\",(pop_den_LW))\n",
    "print(\"The population density of most wealthy housing blocks is\",(pop_den_MW))"
   ]
  },
  {
   "cell_type": "code",
   "execution_count": 36,
   "metadata": {},
   "outputs": [
    {
     "data": {
      "text/html": [
       "<div>\n",
       "<style scoped>\n",
       "    .dataframe tbody tr th:only-of-type {\n",
       "        vertical-align: middle;\n",
       "    }\n",
       "\n",
       "    .dataframe tbody tr th {\n",
       "        vertical-align: top;\n",
       "    }\n",
       "\n",
       "    .dataframe thead th {\n",
       "        text-align: right;\n",
       "    }\n",
       "</style>\n",
       "<table border=\"1\" class=\"dataframe\">\n",
       "  <thead>\n",
       "    <tr style=\"text-align: right;\">\n",
       "      <th></th>\n",
       "      <th></th>\n",
       "      <th>0</th>\n",
       "    </tr>\n",
       "    <tr>\n",
       "      <th>longitude</th>\n",
       "      <th>latitude</th>\n",
       "      <th></th>\n",
       "    </tr>\n",
       "  </thead>\n",
       "  <tbody>\n",
       "    <tr>\n",
       "      <th>-124.35</th>\n",
       "      <th>40.54</th>\n",
       "      <td>1</td>\n",
       "    </tr>\n",
       "    <tr>\n",
       "      <th rowspan=\"2\" valign=\"top\">-124.30</th>\n",
       "      <th>41.80</th>\n",
       "      <td>1</td>\n",
       "    </tr>\n",
       "    <tr>\n",
       "      <th>41.84</th>\n",
       "      <td>1</td>\n",
       "    </tr>\n",
       "    <tr>\n",
       "      <th>-124.27</th>\n",
       "      <th>40.69</th>\n",
       "      <td>1</td>\n",
       "    </tr>\n",
       "    <tr>\n",
       "      <th>-124.26</th>\n",
       "      <th>40.58</th>\n",
       "      <td>1</td>\n",
       "    </tr>\n",
       "    <tr>\n",
       "      <th>...</th>\n",
       "      <th>...</th>\n",
       "      <td>...</td>\n",
       "    </tr>\n",
       "    <tr>\n",
       "      <th>-114.56</th>\n",
       "      <th>33.69</th>\n",
       "      <td>1</td>\n",
       "    </tr>\n",
       "    <tr>\n",
       "      <th>-114.55</th>\n",
       "      <th>32.80</th>\n",
       "      <td>1</td>\n",
       "    </tr>\n",
       "    <tr>\n",
       "      <th>-114.49</th>\n",
       "      <th>33.97</th>\n",
       "      <td>1</td>\n",
       "    </tr>\n",
       "    <tr>\n",
       "      <th>-114.47</th>\n",
       "      <th>34.40</th>\n",
       "      <td>1</td>\n",
       "    </tr>\n",
       "    <tr>\n",
       "      <th>-114.31</th>\n",
       "      <th>34.19</th>\n",
       "      <td>1</td>\n",
       "    </tr>\n",
       "  </tbody>\n",
       "</table>\n",
       "<p>12590 rows × 1 columns</p>\n",
       "</div>"
      ],
      "text/plain": [
       "                    0\n",
       "longitude latitude   \n",
       "-124.35   40.54     1\n",
       "-124.30   41.80     1\n",
       "          41.84     1\n",
       "-124.27   40.69     1\n",
       "-124.26   40.58     1\n",
       "...                ..\n",
       "-114.56   33.69     1\n",
       "-114.55   32.80     1\n",
       "-114.49   33.97     1\n",
       "-114.47   34.40     1\n",
       "-114.31   34.19     1\n",
       "\n",
       "[12590 rows x 1 columns]"
      ]
     },
     "execution_count": 36,
     "metadata": {},
     "output_type": "execute_result"
    }
   ],
   "source": [
    "#  the total housing blocks located in the same place.\n",
    "\n",
    "pd.DataFrame(housing_df.groupby(['longitude','latitude']).size())"
   ]
  },
  {
   "cell_type": "code",
   "execution_count": 37,
   "metadata": {},
   "outputs": [
    {
     "data": {
      "text/html": [
       "<div>\n",
       "<style scoped>\n",
       "    .dataframe tbody tr th:only-of-type {\n",
       "        vertical-align: middle;\n",
       "    }\n",
       "\n",
       "    .dataframe tbody tr th {\n",
       "        vertical-align: top;\n",
       "    }\n",
       "\n",
       "    .dataframe thead th {\n",
       "        text-align: right;\n",
       "    }\n",
       "</style>\n",
       "<table border=\"1\" class=\"dataframe\">\n",
       "  <thead>\n",
       "    <tr style=\"text-align: right;\">\n",
       "      <th></th>\n",
       "      <th>Price Per Room</th>\n",
       "    </tr>\n",
       "    <tr>\n",
       "      <th>ocean_proximity</th>\n",
       "      <th></th>\n",
       "    </tr>\n",
       "  </thead>\n",
       "  <tbody>\n",
       "    <tr>\n",
       "      <th>&lt;1H OCEAN</th>\n",
       "      <td>22500.000000</td>\n",
       "    </tr>\n",
       "    <tr>\n",
       "      <th>INLAND</th>\n",
       "      <td>68750.000000</td>\n",
       "    </tr>\n",
       "    <tr>\n",
       "      <th>ISLAND</th>\n",
       "      <td>451.807229</td>\n",
       "    </tr>\n",
       "    <tr>\n",
       "      <th>NEAR BAY</th>\n",
       "      <td>62500.125000</td>\n",
       "    </tr>\n",
       "    <tr>\n",
       "      <th>NEAR OCEAN</th>\n",
       "      <td>23333.333333</td>\n",
       "    </tr>\n",
       "  </tbody>\n",
       "</table>\n",
       "</div>"
      ],
      "text/plain": [
       "                 Price Per Room\n",
       "ocean_proximity                \n",
       "<1H OCEAN          22500.000000\n",
       "INLAND             68750.000000\n",
       "ISLAND               451.807229\n",
       "NEAR BAY           62500.125000\n",
       "NEAR OCEAN         23333.333333"
      ]
     },
     "execution_count": 37,
     "metadata": {},
     "output_type": "execute_result"
    }
   ],
   "source": [
    "# price of expensive room grouped by ocean proximity.\n",
    "pd.DataFrame(housing_df.groupby(\"ocean_proximity\")[\"Price Per Room\"].max())"
   ]
  },
  {
   "cell_type": "code",
   "execution_count": 38,
   "metadata": {},
   "outputs": [
    {
     "data": {
      "text/plain": [
       "<matplotlib.axes._subplots.AxesSubplot at 0x2ccc36a8c08>"
      ]
     },
     "execution_count": 38,
     "metadata": {},
     "output_type": "execute_result"
    },
    {
     "data": {
      "image/png": "[encoded data removed]",
      "text/plain": [
       "<Figure size 720x360 with 1 Axes>"
      ]
     },
     "metadata": {
      "needs_background": "light"
     },
     "output_type": "display_data"
    }
   ],
   "source": [
    "# population scatter plot against housing age and another against ocean proximity.\n",
    "\n",
    "import matplotlib.pyplot as plt\n",
    "import numpy as np\n",
    "fig, ax = plt.subplots(figsize=(10,5))\n",
    "\n",
    "ax.scatter(housing_df['housing_age'], housing_df['population'] ,\n",
    "                   \n",
    "                   alpha=0.5,\n",
    "                   facecolor='purple',\n",
    "                   edgecolor='face'\n",
    "                   )\n",
    "ax.set_title('Housing Age vs Population')\n",
    "ax.set_xlabel('Housing Age')\n",
    "ax.set_ylabel('Population')\n",
    "ax"
   ]
  },
  {
   "cell_type": "code",
   "execution_count": 39,
   "metadata": {},
   "outputs": [
    {
     "data": {
      "text/plain": [
       "<matplotlib.axes._subplots.AxesSubplot at 0x2ccc5f91b88>"
      ]
     },
     "execution_count": 39,
     "metadata": {},
     "output_type": "execute_result"
    },
    {
     "data": {
      "image/png": "[encoded data removed]",
      "text/plain": [
       "<Figure size 720x360 with 1 Axes>"
      ]
     },
     "metadata": {
      "needs_background": "light"
     },
     "output_type": "display_data"
    }
   ],
   "source": [
    "fig, ax = plt.subplots(figsize=(10,5))\n",
    "\n",
    "ax.scatter(housing_df['ocean_proximity'], housing_df['population'] ,\n",
    "                   \n",
    "                   alpha=0.5,\n",
    "                   facecolor='red',\n",
    "                   edgecolor='face'\n",
    "                   )\n",
    "ax.set_title('population vs housing age')\n",
    "ax.set_xlabel('ocean proximity')\n",
    "ax.set_ylabel('population')\n",
    "ax"
   ]
  },
  {
   "cell_type": "code",
   "execution_count": 40,
   "metadata": {},
   "outputs": [
    {
     "data": {
      "text/plain": [
       "Text(0.5, 1.0, 'bar')"
      ]
     },
     "execution_count": 40,
     "metadata": {},
     "output_type": "execute_result"
    },
    {
     "data": {
      "image/png": "[encoded data removed]",
      "text/plain": [
       "<Figure size 432x288 with 1 Axes>"
      ]
     },
     "metadata": {
      "needs_background": "light"
     },
     "output_type": "display_data"
    }
   ],
   "source": [
    "# bar diagram of average values of all suitable columns.\n",
    "\n",
    "fig2, bx = plt.subplots()\n",
    "freq = [housing_df['housing_age'].mean(),\n",
    "        housing_df['total_rooms'].mean(),\n",
    "        housing_df['total_bedrooms'].mean(),\n",
    "      housing_df['population'].mean(),\n",
    "     housing_df['families'].mean(),\n",
    "    housing_df['average_income'].mean(),\n",
    "       housing_df['house_value'].mean(),\n",
    "       housing_df['Population Density'].mean(),\n",
    "       housing_df['Price Per Room'].mean()]\n",
    "xps = np.arange(len(freq))\n",
    "\n",
    "color = ['yellow','orange','red','purple','brown','black','pink','brown','olive']\n",
    "bx.bar(xps,freq, align=\"center\",color=color)\n",
    "bx.set_title('bar')"
   ]
  },
  {
   "cell_type": "code",
   "execution_count": 43,
   "metadata": {},
   "outputs": [
    {
     "data": {
      "image/png": "[encoded data removed]",
      "text/plain": [
       "<Figure size 432x288 with 1 Axes>"
      ]
     },
     "metadata": {
      "needs_background": "light"
     },
     "output_type": "display_data"
    }
   ],
   "source": [
    "#  differences in housing prices from the average price of housing using a bar diagram.\n",
    "avg_price = housing_df['house_value'].mean()\n",
    "price_diff = []\n",
    "y_label= []\n",
    "for i in range(len(housing_df)):\n",
    "    y_label.append(i)\n",
    "    price_diff.append(housing_df['house_value'][i]- avg_price)\n",
    "    \n",
    "plt.bar(y_label,price_diff)\n",
    "plt.show()"
   ]
  }
 ],
 "metadata": {
  "kernelspec": {
   "display_name": "Python 3",
   "language": "python",
   "name": "python3"
  },
  "language_info": {
   "codemirror_mode": {
    "name": "ipython",
    "version": 3
   },
   "file_extension": ".py",
   "mimetype": "text/x-python",
   "name": "python",
   "nbconvert_exporter": "python",
   "pygments_lexer": "ipython3",
   "version": "3.7.6"
  }
 },
 "nbformat": 4,
 "nbformat_minor": 4
}
