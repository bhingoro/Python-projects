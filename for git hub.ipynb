{
 "cells": [
  {
   "cell_type": "code",
   "execution_count": 8,
   "metadata": {},
   "outputs": [],
   "source": [
    "import numpy as np\n",
    "from sklearn.model_selection import train_test_split\n",
    "from sklearn.neighbors import KNeighborsClassifier\n",
    "import matplotlib.pyplot as plt\n",
    "from sklearn.preprocessing import LabelEncoder,OneHotEncoder\n",
    "from sklearn import metrics\n",
    "import pandas as pd\n",
    "from sklearn import svm\n",
    "from sklearn.metrics import classification_report\n",
    "from sklearn.metrics import confusion_matrix\n",
    "from sklearn.metrics import accuracy_score\n",
    "from sklearn.metrics import recall_score\n",
    "from sklearn.metrics import roc_auc_score\n",
    "from sklearn.metrics import precision_score\n",
    "from sklearn.ensemble import RandomForestClassifier\n",
    "from sklearn.tree import DecisionTreeClassifier"
   ]
  },
  {
   "cell_type": "code",
   "execution_count": 9,
   "metadata": {},
   "outputs": [],
   "source": [
    "#importing data\n",
    "df = pd.read_csv(\"chronic_kidney_disease.csv\")"
   ]
  },
  {
   "cell_type": "code",
   "execution_count": 10,
   "metadata": {},
   "outputs": [
    {
     "data": {
      "text/html": [
       "<div>\n",
       "<style scoped>\n",
       "    .dataframe tbody tr th:only-of-type {\n",
       "        vertical-align: middle;\n",
       "    }\n",
       "\n",
       "    .dataframe tbody tr th {\n",
       "        vertical-align: top;\n",
       "    }\n",
       "\n",
       "    .dataframe thead th {\n",
       "        text-align: right;\n",
       "    }\n",
       "</style>\n",
       "<table border=\"1\" class=\"dataframe\">\n",
       "  <thead>\n",
       "    <tr style=\"text-align: right;\">\n",
       "      <th></th>\n",
       "      <th>age</th>\n",
       "      <th>bp</th>\n",
       "      <th>sg</th>\n",
       "      <th>al</th>\n",
       "      <th>su</th>\n",
       "      <th>rbc</th>\n",
       "      <th>pc</th>\n",
       "      <th>pcc</th>\n",
       "      <th>ba</th>\n",
       "      <th>bgr</th>\n",
       "      <th>...</th>\n",
       "      <th>pcv</th>\n",
       "      <th>wbcc</th>\n",
       "      <th>rbcc</th>\n",
       "      <th>htn</th>\n",
       "      <th>dm</th>\n",
       "      <th>cad</th>\n",
       "      <th>appet</th>\n",
       "      <th>pe</th>\n",
       "      <th>ane</th>\n",
       "      <th>class</th>\n",
       "    </tr>\n",
       "  </thead>\n",
       "  <tbody>\n",
       "    <tr>\n",
       "      <th>0</th>\n",
       "      <td>48</td>\n",
       "      <td>80</td>\n",
       "      <td>1.02</td>\n",
       "      <td>1</td>\n",
       "      <td>0</td>\n",
       "      <td>0</td>\n",
       "      <td>0</td>\n",
       "      <td>1</td>\n",
       "      <td>1</td>\n",
       "      <td>121</td>\n",
       "      <td>...</td>\n",
       "      <td>44</td>\n",
       "      <td>7800</td>\n",
       "      <td>5.2</td>\n",
       "      <td>0</td>\n",
       "      <td>0</td>\n",
       "      <td>1</td>\n",
       "      <td>1</td>\n",
       "      <td>1</td>\n",
       "      <td>1</td>\n",
       "      <td>ckd</td>\n",
       "    </tr>\n",
       "    <tr>\n",
       "      <th>1</th>\n",
       "      <td>7</td>\n",
       "      <td>50</td>\n",
       "      <td>1.02</td>\n",
       "      <td>4</td>\n",
       "      <td>0</td>\n",
       "      <td>0</td>\n",
       "      <td>0</td>\n",
       "      <td>1</td>\n",
       "      <td>1</td>\n",
       "      <td>?</td>\n",
       "      <td>...</td>\n",
       "      <td>38</td>\n",
       "      <td>6000</td>\n",
       "      <td>0.0</td>\n",
       "      <td>1</td>\n",
       "      <td>1</td>\n",
       "      <td>1</td>\n",
       "      <td>1</td>\n",
       "      <td>1</td>\n",
       "      <td>1</td>\n",
       "      <td>ckd</td>\n",
       "    </tr>\n",
       "    <tr>\n",
       "      <th>2</th>\n",
       "      <td>62</td>\n",
       "      <td>80</td>\n",
       "      <td>1.01</td>\n",
       "      <td>2</td>\n",
       "      <td>3</td>\n",
       "      <td>0</td>\n",
       "      <td>0</td>\n",
       "      <td>1</td>\n",
       "      <td>1</td>\n",
       "      <td>423</td>\n",
       "      <td>...</td>\n",
       "      <td>31</td>\n",
       "      <td>7500</td>\n",
       "      <td>0.0</td>\n",
       "      <td>1</td>\n",
       "      <td>0</td>\n",
       "      <td>1</td>\n",
       "      <td>0</td>\n",
       "      <td>1</td>\n",
       "      <td>0</td>\n",
       "      <td>ckd</td>\n",
       "    </tr>\n",
       "    <tr>\n",
       "      <th>3</th>\n",
       "      <td>48</td>\n",
       "      <td>70</td>\n",
       "      <td>1.005</td>\n",
       "      <td>4</td>\n",
       "      <td>0</td>\n",
       "      <td>0</td>\n",
       "      <td>1</td>\n",
       "      <td>0</td>\n",
       "      <td>1</td>\n",
       "      <td>117</td>\n",
       "      <td>...</td>\n",
       "      <td>32</td>\n",
       "      <td>6700</td>\n",
       "      <td>3.9</td>\n",
       "      <td>0</td>\n",
       "      <td>1</td>\n",
       "      <td>1</td>\n",
       "      <td>0</td>\n",
       "      <td>0</td>\n",
       "      <td>0</td>\n",
       "      <td>ckd</td>\n",
       "    </tr>\n",
       "    <tr>\n",
       "      <th>4</th>\n",
       "      <td>51</td>\n",
       "      <td>80</td>\n",
       "      <td>1.01</td>\n",
       "      <td>2</td>\n",
       "      <td>0</td>\n",
       "      <td>0</td>\n",
       "      <td>0</td>\n",
       "      <td>1</td>\n",
       "      <td>1</td>\n",
       "      <td>106</td>\n",
       "      <td>...</td>\n",
       "      <td>35</td>\n",
       "      <td>7300</td>\n",
       "      <td>4.6</td>\n",
       "      <td>1</td>\n",
       "      <td>1</td>\n",
       "      <td>1</td>\n",
       "      <td>1</td>\n",
       "      <td>1</td>\n",
       "      <td>1</td>\n",
       "      <td>ckd</td>\n",
       "    </tr>\n",
       "  </tbody>\n",
       "</table>\n",
       "<p>5 rows × 25 columns</p>\n",
       "</div>"
      ],
      "text/plain": [
       "  age  bp     sg al su  rbc  pc  pcc  ba  bgr  ... pcv  wbcc rbcc htn dm  cad  \\\n",
       "0  48  80   1.02  1  0    0   0    1   1  121  ...  44  7800  5.2   0  0    1   \n",
       "1   7  50   1.02  4  0    0   0    1   1    ?  ...  38  6000  0.0   1  1    1   \n",
       "2  62  80   1.01  2  3    0   0    1   1  423  ...  31  7500  0.0   1  0    1   \n",
       "3  48  70  1.005  4  0    0   1    0   1  117  ...  32  6700  3.9   0  1    1   \n",
       "4  51  80   1.01  2  0    0   0    1   1  106  ...  35  7300  4.6   1  1    1   \n",
       "\n",
       "   appet  pe  ane  class  \n",
       "0      1   1    1    ckd  \n",
       "1      1   1    1    ckd  \n",
       "2      0   1    0    ckd  \n",
       "3      0   0    0    ckd  \n",
       "4      1   1    1    ckd  \n",
       "\n",
       "[5 rows x 25 columns]"
      ]
     },
     "execution_count": 10,
     "metadata": {},
     "output_type": "execute_result"
    }
   ],
   "source": [
    "df.head()"
   ]
  },
  {
   "cell_type": "code",
   "execution_count": 11,
   "metadata": {},
   "outputs": [],
   "source": [
    "df = df.replace('?', None)\n",
    "df = df.drop([\"sod\", \"pot\",\"hemo\"], axis = 1) # dropping these values because there are too many missing values"
   ]
  },
  {
   "cell_type": "code",
   "execution_count": 12,
   "metadata": {},
   "outputs": [],
   "source": [
    "# coverting class lebal into dummy coding\n",
    "df[\"class\"] = df[\"class\"].astype('category')\n",
    "df[\"class\"] = df[\"class\"].cat.codes"
   ]
  },
  {
   "cell_type": "code",
   "execution_count": 13,
   "metadata": {},
   "outputs": [
    {
     "name": "stdout",
     "output_type": "stream",
     "text": [
      "(320, 22)\n",
      "(80, 22)\n",
      "(320,)\n",
      "(80,)\n"
     ]
    }
   ],
   "source": [
    "x = df.iloc[:,:21]\n",
    "y = df.iloc[:,-1]\n",
    "\n",
    "#Splitting the data into 80% Training and 20% Testing sets\n",
    "Xtrain, Xtest, ytrain, ytest = train_test_split(df,y, test_size=0.2)\n",
    "\n",
    "print(Xtrain.shape)\n",
    "print(Xtest.shape)\n",
    "print(ytrain.shape)\n",
    "print(ytest.shape)"
   ]
  },
  {
   "cell_type": "markdown",
   "metadata": {},
   "source": [
    "# SVM Models"
   ]
  },
  {
   "cell_type": "code",
   "execution_count": 14,
   "metadata": {},
   "outputs": [
    {
     "name": "stdout",
     "output_type": "stream",
     "text": [
      "              precision    recall  f1-score   support\n",
      "\n",
      "           0       1.00      0.93      0.97        46\n",
      "           1       0.92      1.00      0.96        34\n",
      "\n",
      "    accuracy                           0.96        80\n",
      "   macro avg       0.96      0.97      0.96        80\n",
      "weighted avg       0.97      0.96      0.96        80\n",
      "\n",
      "[[43  3]\n",
      " [ 0 34]]\n"
     ]
    },
    {
     "data": {
      "image/png": "[encoded data removed]",
      "text/plain": [
       "<Figure size 720x432 with 1 Axes>"
      ]
     },
     "metadata": {
      "needs_background": "light"
     },
     "output_type": "display_data"
    }
   ],
   "source": [
    "# Fit an SVM using linear kernel\n",
    "C = [0.001,0.01,0.1,1,3,10]\n",
    "degree = list(range(1,32,2))\n",
    "gamma = [10,50,100,500,1000]\n",
    "\n",
    "svm_accuracy_score = []    \n",
    "\n",
    "for i in C:\n",
    "    svm_model = svm.SVC(kernel='linear',C=i)\n",
    "    svm_model.fit(Xtrain, ytrain)\n",
    "\n",
    "    #Training/Testing Accuracy:\n",
    "    svm_acc = metrics.accuracy_score(ytest, svm_model.predict(Xtest))\n",
    "    svm_accuracy_score.append(svm_acc)\n",
    "\n",
    "plt.figure(figsize=(10,6))\n",
    "plt.plot(C,svm_accuracy_score,color = 'red',linestyle='-', marker='o',markerfacecolor='black', markersize=12)\n",
    "plt.title('accuracy vs. C Value')\n",
    "plt.xlabel('C')\n",
    "plt.ylabel('Accuracy')\n",
    "\n",
    "    #Training/Testing Accuracy:\n",
    "svm_acc = metrics.accuracy_score(ytest, svm_model.predict(Xtest))\n",
    "   \n",
    "print(classification_report(ytest, svm_model.predict(Xtest)))\n",
    "print(confusion_matrix(ytest, svm_model.predict(Xtest)))"
   ]
  },
  {
   "cell_type": "code",
   "execution_count": 15,
   "metadata": {},
   "outputs": [
    {
     "name": "stdout",
     "output_type": "stream",
     "text": [
      "              precision    recall  f1-score   support\n",
      "\n",
      "           0       0.57      1.00      0.73        46\n",
      "           1       0.00      0.00      0.00        34\n",
      "\n",
      "    accuracy                           0.57        80\n",
      "   macro avg       0.29      0.50      0.37        80\n",
      "weighted avg       0.33      0.57      0.42        80\n",
      "\n",
      "[[46  0]\n",
      " [34  0]]\n"
     ]
    },
    {
     "name": "stderr",
     "output_type": "stream",
     "text": [
      "C:\\ProgramData\\Anaconda3\\lib\\site-packages\\sklearn\\metrics\\_classification.py:1245: UndefinedMetricWarning: Precision and F-score are ill-defined and being set to 0.0 in labels with no predicted samples. Use `zero_division` parameter to control this behavior.\n",
      "  _warn_prf(average, modifier, msg_start, len(result))\n",
      "C:\\ProgramData\\Anaconda3\\lib\\site-packages\\sklearn\\metrics\\_classification.py:1245: UndefinedMetricWarning: Precision and F-score are ill-defined and being set to 0.0 in labels with no predicted samples. Use `zero_division` parameter to control this behavior.\n",
      "  _warn_prf(average, modifier, msg_start, len(result))\n",
      "C:\\ProgramData\\Anaconda3\\lib\\site-packages\\sklearn\\metrics\\_classification.py:1245: UndefinedMetricWarning: Precision and F-score are ill-defined and being set to 0.0 in labels with no predicted samples. Use `zero_division` parameter to control this behavior.\n",
      "  _warn_prf(average, modifier, msg_start, len(result))\n"
     ]
    },
    {
     "data": {
      "image/png": "[encoded data removed]",
      "text/plain": [
       "<Figure size 720x432 with 1 Axes>"
      ]
     },
     "metadata": {
      "needs_background": "light"
     },
     "output_type": "display_data"
    }
   ],
   "source": [
    "# Fit an SVM using polynomial kernel\n",
    "C = [0.001,0.01,0.1,1,3,10]\n",
    "degree = list(range(1,32,2))\n",
    "gamma = [10,50,100,500,1000]\n",
    "\n",
    "svm_accuracy_score = []    \n",
    "\n",
    "for i in C:\n",
    "    svm_model = svm.SVC(kernel='poly',C=i)\n",
    "    svm_model.fit(Xtrain, ytrain)\n",
    "\n",
    "    #Training/Testing Accuracy:\n",
    "    svm_acc = metrics.accuracy_score(ytest, svm_model.predict(Xtest))\n",
    "    svm_accuracy_score.append(svm_acc)\n",
    "\n",
    "plt.figure(figsize=(10,6))\n",
    "plt.plot(C,svm_accuracy_score,color = 'red',linestyle='-', marker='o',markerfacecolor='black', markersize=12)\n",
    "plt.title('accuracy vs. C Value')\n",
    "plt.xlabel('C')\n",
    "plt.ylabel('Accuracy')\n",
    "\n",
    "    #Training/Testing Accuracy:\n",
    "svm_acc = metrics.accuracy_score(ytest, svm_model.predict(Xtest))\n",
    "   \n",
    "print(classification_report(ytest, svm_model.predict(Xtest)))\n",
    "print(confusion_matrix(ytest, svm_model.predict(Xtest)))"
   ]
  },
  {
   "cell_type": "code",
   "execution_count": 16,
   "metadata": {},
   "outputs": [
    {
     "name": "stdout",
     "output_type": "stream",
     "text": [
      "              precision    recall  f1-score   support\n",
      "\n",
      "           0       0.57      1.00      0.73        46\n",
      "           1       0.00      0.00      0.00        34\n",
      "\n",
      "    accuracy                           0.57        80\n",
      "   macro avg       0.29      0.50      0.37        80\n",
      "weighted avg       0.33      0.57      0.42        80\n",
      "\n",
      "[[46  0]\n",
      " [34  0]]\n"
     ]
    },
    {
     "name": "stderr",
     "output_type": "stream",
     "text": [
      "C:\\ProgramData\\Anaconda3\\lib\\site-packages\\sklearn\\metrics\\_classification.py:1245: UndefinedMetricWarning: Precision and F-score are ill-defined and being set to 0.0 in labels with no predicted samples. Use `zero_division` parameter to control this behavior.\n",
      "  _warn_prf(average, modifier, msg_start, len(result))\n",
      "C:\\ProgramData\\Anaconda3\\lib\\site-packages\\sklearn\\metrics\\_classification.py:1245: UndefinedMetricWarning: Precision and F-score are ill-defined and being set to 0.0 in labels with no predicted samples. Use `zero_division` parameter to control this behavior.\n",
      "  _warn_prf(average, modifier, msg_start, len(result))\n",
      "C:\\ProgramData\\Anaconda3\\lib\\site-packages\\sklearn\\metrics\\_classification.py:1245: UndefinedMetricWarning: Precision and F-score are ill-defined and being set to 0.0 in labels with no predicted samples. Use `zero_division` parameter to control this behavior.\n",
      "  _warn_prf(average, modifier, msg_start, len(result))\n"
     ]
    },
    {
     "data": {
      "image/png": "[encoded data removed]",
      "text/plain": [
       "<Figure size 720x432 with 1 Axes>"
      ]
     },
     "metadata": {
      "needs_background": "light"
     },
     "output_type": "display_data"
    }
   ],
   "source": [
    "gamma_accuracy_score = []\n",
    "for i in gamma:\n",
    "    \n",
    "    \n",
    "    svc_model = svm.SVC(kernel='rbf', gamma = i)\n",
    "\n",
    "    svc_model.fit(Xtrain,ytrain)\n",
    "    svm_acc3 = metrics.accuracy_score(ytest, svc_model.predict(Xtest))\n",
    "    gamma_accuracy_score.append(svm_acc3)\n",
    "        \n",
    "plt.figure(figsize=(10,6))\n",
    "plt.plot(gamma,gamma_accuracy_score,color = 'red',linestyle='-', marker='o',markerfacecolor='black', markersize=12)\n",
    "plt.title('accuracy vs. Gamma')\n",
    "plt.xlabel('Gamma')\n",
    "plt.ylabel('Accuracy')\n",
    "\n",
    "svc_model = svm.SVC(kernel='rbf', gamma= 10)\n",
    "\n",
    "svc_model.fit(Xtrain,ytrain)\n",
    "#x = metrics.accuracy_score(ytest, svc_model.predict(Xtest))\n",
    "   \n",
    "print(classification_report(ytest, svc_model.predict(Xtest)))\n",
    "print(confusion_matrix(ytest, svc_model.predict(Xtest)))"
   ]
  },
  {
   "cell_type": "markdown",
   "metadata": {},
   "source": [
    "# KNN"
   ]
  },
  {
   "cell_type": "code",
   "execution_count": 17,
   "metadata": {},
   "outputs": [
    {
     "name": "stdout",
     "output_type": "stream",
     "text": [
      "              precision    recall  f1-score   support\n",
      "\n",
      "           0       0.82      0.80      0.81        46\n",
      "           1       0.74      0.76      0.75        34\n",
      "\n",
      "    accuracy                           0.79        80\n",
      "   macro avg       0.78      0.78      0.78        80\n",
      "weighted avg       0.79      0.79      0.79        80\n",
      "\n",
      "[[37  9]\n",
      " [ 8 26]]\n"
     ]
    },
    {
     "data": {
      "image/png": "[encoded data removed]",
      "text/plain": [
       "<Figure size 720x432 with 1 Axes>"
      ]
     },
     "metadata": {
      "needs_background": "light"
     },
     "output_type": "display_data"
    }
   ],
   "source": [
    "# Build a KNN using 5 neighbor nodes\n",
    "k = list(range(2,30))\n",
    "accuracy_score = []\n",
    "for i in k:\n",
    "    knn_model = KNeighborsClassifier(n_neighbors=i)\n",
    "\n",
    "    #Fit the model using our training data\n",
    "    knn_model.fit(Xtrain, ytrain)\n",
    "\n",
    "    # Training Accuracy:\n",
    "    knn_acc = metrics.accuracy_score(ytrain, knn_model.predict(Xtrain))\n",
    "    knn_acc_test = metrics.accuracy_score(ytest, knn_model.predict(Xtest))\n",
    "    accuracy_score.append(knn_acc_test)\n",
    "    \n",
    "\n",
    "plt.figure(figsize=(10,6))\n",
    "plt.plot(range(2,30),accuracy_score,color = 'red',linestyle='-', marker='o',markerfacecolor='black', markersize=12)\n",
    "plt.title('accuracy vs. K Value')\n",
    "plt.xlabel('K')\n",
    "plt.ylabel('Accuracy')\n",
    "\n",
    "knn_model = KNeighborsClassifier(n_neighbors=6)\n",
    "\n",
    "#Fit the model using our training data\n",
    "knn_model.fit(Xtrain, ytrain)\n",
    "knn_model.fit(Xtrain, ytrain)\n",
    "print(classification_report(ytest,knn_model.predict(Xtest)))\n",
    "print(confusion_matrix(ytest,knn_model.predict(Xtest)))"
   ]
  },
  {
   "cell_type": "markdown",
   "metadata": {},
   "source": [
    "# Decision Trees"
   ]
  },
  {
   "cell_type": "code",
   "execution_count": 18,
   "metadata": {},
   "outputs": [
    {
     "name": "stdout",
     "output_type": "stream",
     "text": [
      "              precision    recall  f1-score   support\n",
      "\n",
      "           0       1.00      1.00      1.00        46\n",
      "           1       1.00      1.00      1.00        34\n",
      "\n",
      "    accuracy                           1.00        80\n",
      "   macro avg       1.00      1.00      1.00        80\n",
      "weighted avg       1.00      1.00      1.00        80\n",
      "\n",
      "[[46  0]\n",
      " [ 0 34]]\n"
     ]
    },
    {
     "data": {
      "image/png": "[encoded data removed]",
      "text/plain": [
       "<Figure size 720x432 with 1 Axes>"
      ]
     },
     "metadata": {
      "needs_background": "light"
     },
     "output_type": "display_data"
    }
   ],
   "source": [
    "decision_accuracy = []\n",
    "max_depth_range = list(range(1,15))\n",
    "\n",
    "for i in max_depth_range:\n",
    "    treeclf = DecisionTreeClassifier(max_depth=i,criterion = 'gini')\n",
    "\n",
    "    # Fit our training data\n",
    "    treeclf.fit(Xtrain, ytrain)\n",
    "    decision_acc_test = metrics.accuracy_score(ytest, treeclf.predict(Xtest))\n",
    "    decision_accuracy.append(decision_acc_test)\n",
    "\n",
    "plt.figure(figsize=(10,6))\n",
    "plt.plot(max_depth_range,decision_accuracy,color = 'red',linestyle='-', marker='o',markerfacecolor='black', markersize=12)\n",
    "plt.title('accuracy vs. Max depth')\n",
    "plt.xlabel('Depth')\n",
    "plt.ylabel('Accuracy')\n",
    "\n",
    "treeclf = DecisionTreeClassifier(max_depth=2,criterion = 'gini')\n",
    "\n",
    "    # Fit our training data\n",
    "treeclf.fit(Xtrain, ytrain)\n",
    "print(classification_report(ytest, treeclf.predict(Xtest)))\n",
    "print(confusion_matrix(ytest, treeclf.predict(Xtest)))"
   ]
  },
  {
   "cell_type": "code",
   "execution_count": null,
   "metadata": {},
   "outputs": [],
   "source": []
  },
  {
   "cell_type": "code",
   "execution_count": null,
   "metadata": {},
   "outputs": [],
   "source": []
  },
  {
   "cell_type": "code",
   "execution_count": null,
   "metadata": {},
   "outputs": [],
   "source": []
  },
  {
   "cell_type": "code",
   "execution_count": null,
   "metadata": {},
   "outputs": [],
   "source": []
  },
  {
   "cell_type": "code",
   "execution_count": null,
   "metadata": {},
   "outputs": [],
   "source": []
  },
  {
   "cell_type": "code",
   "execution_count": null,
   "metadata": {},
   "outputs": [],
   "source": []
  },
  {
   "cell_type": "code",
   "execution_count": null,
   "metadata": {},
   "outputs": [],
   "source": []
  }
 ],
 "metadata": {
  "kernelspec": {
   "display_name": "Python 3",
   "language": "python",
   "name": "python3"
  },
  "language_info": {
   "codemirror_mode": {
    "name": "ipython",
    "version": 3
   },
   "file_extension": ".py",
   "mimetype": "text/x-python",
   "name": "python",
   "nbconvert_exporter": "python",
   "pygments_lexer": "ipython3",
   "version": "3.7.6"
  }
 },
 "nbformat": 4,
 "nbformat_minor": 4
}
